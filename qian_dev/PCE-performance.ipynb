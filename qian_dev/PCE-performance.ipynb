{
 "cells": [
  {
   "cell_type": "markdown",
   "metadata": {},
   "source": [
    "The script is used to evaluate the error of PCE-----Created on 2021/05/12 by Qian Wang"
   ]
  },
  {
   "cell_type": "code",
   "execution_count": 6,
   "metadata": {},
   "outputs": [],
   "source": [
    "#import packages\n",
    "import numpy as np\n",
    "import pandas as pd\n",
    "import seaborn as sns\n",
    "import pickle\n",
    "import matplotlib.pyplot as plt\n",
    "from matplotlib import rc\n",
    "rc(\"text\", usetex=False)\n",
    "\n",
    "from basic.read_data import read_specify, file_settings\n",
    "from basic.utils import dist_return"
   ]
  },
  {
   "cell_type": "code",
   "execution_count": 2,
   "metadata": {},
   "outputs": [],
   "source": [
    "# Import settings of PCE\n",
    "from error_fixing import fix_group_ranking\n",
    "input_path = file_settings()[1]\n",
    "output_path = file_settings()[0]\n",
    "output_path = '../output/adaptive/'\n",
    "samples, values = read_specify('model', 'reduced', \n",
    "    product_uniform=False, num_vars=11)\n",
    "samples_22, _ = read_specify('model', 'full', \n",
    "    product_uniform=False, num_vars=22)\n",
    "values_vali = values[450:550]\n",
    "samples_vali = samples[:, 450:550]\n",
    "samples_22_vali = samples_22[:, 450:550]\n",
    "\n",
    "# import the independent samples for validation\n",
    "# samples_22_vali = np.append(samples_22_vali, pd.read_csv(input_path + '2000_2014_ave_annual_vali.csv').values[0:400, 1:-1].T, axis=1)\n",
    "# samples_vali = np.append(samples_vali, pd.read_csv(input_path + 'samples_adjust_vali.csv').values[0:400, 1:-1].T, axis=1)\n",
    "# values_vali = np.append(values_vali, pd.read_csv(input_path + 'samples_adjust_vali.csv').values[0:400, -1].reshape(samples_vali.shape[1]-100, 1), axis=0)"
   ]
  },
  {
   "cell_type": "code",
   "execution_count": 3,
   "metadata": {},
   "outputs": [
    {
     "data": {
      "text/plain": [
       "(22, 100)"
      ]
     },
     "execution_count": 3,
     "metadata": {},
     "output_type": "execute_result"
    }
   ],
   "source": [
    "samples_22_vali.shape"
   ]
  },
  {
   "cell_type": "code",
   "execution_count": 3,
   "metadata": {},
   "outputs": [
    {
     "name": "stdout",
     "output_type": "stream",
     "text": [
      "adaptive-reduce-exact_552\n",
      "adaptive-reduce-uniform_552\n",
      "adaptive-reduce-full_552\n"
     ]
    }
   ],
   "source": [
    "# Calculate the error (RMSE) of PCE\n",
    "product_uniform = ['exact', 'uniform', False] #, 'uniform'\n",
    "rmse_all = {}\n",
    "for p in product_uniform:\n",
    "    dist_type = dist_return(p)\n",
    "    filename = f'adaptive-reduce-{dist_type}_552'\n",
    "    print(filename)\n",
    "    approx_list_all = pickle.load(open(f'{output_path}{filename}-approx-list.pkl', \"rb\"))\n",
    "    rmse_exact = pd.DataFrame(columns = np.arange(30, 450, 10), index=np.arange(0, 100, 1))\n",
    "\n",
    "    for key, value in approx_list_all.items():\n",
    "        rmse_temp = []\n",
    "        nsample = int(key.split('_')[1])\n",
    "        if (nsample >= 30) and (nsample <= 500):\n",
    "            for pce in value:\n",
    "                if dist_type == 'full':\n",
    "                    y_hat = pce(samples_22_vali)\n",
    "                else:\n",
    "#                     breakpoint()\n",
    "                    y_hat = pce(samples_vali)\n",
    "                # END if-else\n",
    "        \n",
    "                rmse_abs = (((y_hat.flatten()-values_vali.flatten())**2).mean())**0.5\n",
    "                rmse_temp.append(rmse_abs / values_vali.std())\n",
    "                # END for\n",
    "                \n",
    "            rmse_exact.loc[0:(len(rmse_temp)-1), nsample] = rmse_temp\n",
    "            # END for\n",
    "            \n",
    "    rmse_all[dist_type] = rmse_exact.mean(axis=0)\n",
    "    rmse_all[dist_type + '_min'] = rmse_exact.min(axis=0)\n",
    "    rmse_all[dist_type + '_max'] = rmse_exact.max(axis=0)"
   ]
  },
  {
   "cell_type": "code",
   "execution_count": 4,
   "metadata": {},
   "outputs": [
    {
     "data": {
      "text/html": [
       "<div>\n",
       "<style scoped>\n",
       "    .dataframe tbody tr th:only-of-type {\n",
       "        vertical-align: middle;\n",
       "    }\n",
       "\n",
       "    .dataframe tbody tr th {\n",
       "        vertical-align: top;\n",
       "    }\n",
       "\n",
       "    .dataframe thead th {\n",
       "        text-align: right;\n",
       "    }\n",
       "</style>\n",
       "<table border=\"1\" class=\"dataframe\">\n",
       "  <thead>\n",
       "    <tr style=\"text-align: right;\">\n",
       "      <th></th>\n",
       "      <th>index</th>\n",
       "      <th>exact</th>\n",
       "      <th>exact_min</th>\n",
       "      <th>exact_max</th>\n",
       "      <th>uniform</th>\n",
       "      <th>uniform_min</th>\n",
       "      <th>uniform_max</th>\n",
       "      <th>full</th>\n",
       "      <th>full_min</th>\n",
       "      <th>full_max</th>\n",
       "    </tr>\n",
       "  </thead>\n",
       "  <tbody>\n",
       "    <tr>\n",
       "      <th>43</th>\n",
       "      <td>460</td>\n",
       "      <td>0.055693</td>\n",
       "      <td>0.055032</td>\n",
       "      <td>0.056427</td>\n",
       "      <td>0.055954</td>\n",
       "      <td>0.055445</td>\n",
       "      <td>0.056854</td>\n",
       "      <td>0.073577</td>\n",
       "      <td>0.071929</td>\n",
       "      <td>0.074874</td>\n",
       "    </tr>\n",
       "    <tr>\n",
       "      <th>44</th>\n",
       "      <td>470</td>\n",
       "      <td>0.052161</td>\n",
       "      <td>0.051627</td>\n",
       "      <td>0.053009</td>\n",
       "      <td>0.054581</td>\n",
       "      <td>0.054073</td>\n",
       "      <td>0.055463</td>\n",
       "      <td>0.059241</td>\n",
       "      <td>0.057665</td>\n",
       "      <td>0.060441</td>\n",
       "    </tr>\n",
       "    <tr>\n",
       "      <th>45</th>\n",
       "      <td>480</td>\n",
       "      <td>0.047942</td>\n",
       "      <td>0.047303</td>\n",
       "      <td>0.048903</td>\n",
       "      <td>0.053606</td>\n",
       "      <td>0.053056</td>\n",
       "      <td>0.054434</td>\n",
       "      <td>0.051718</td>\n",
       "      <td>0.050504</td>\n",
       "      <td>0.053881</td>\n",
       "    </tr>\n",
       "    <tr>\n",
       "      <th>46</th>\n",
       "      <td>490</td>\n",
       "      <td>0.045064</td>\n",
       "      <td>0.044540</td>\n",
       "      <td>0.045980</td>\n",
       "      <td>0.051794</td>\n",
       "      <td>0.051090</td>\n",
       "      <td>0.052800</td>\n",
       "      <td>0.053652</td>\n",
       "      <td>0.052043</td>\n",
       "      <td>0.054962</td>\n",
       "    </tr>\n",
       "    <tr>\n",
       "      <th>47</th>\n",
       "      <td>500</td>\n",
       "      <td>0.044567</td>\n",
       "      <td>0.044041</td>\n",
       "      <td>0.045638</td>\n",
       "      <td>0.050476</td>\n",
       "      <td>0.049732</td>\n",
       "      <td>0.051402</td>\n",
       "      <td>0.050475</td>\n",
       "      <td>0.049176</td>\n",
       "      <td>0.051515</td>\n",
       "    </tr>\n",
       "  </tbody>\n",
       "</table>\n",
       "</div>"
      ],
      "text/plain": [
       "    index     exact  exact_min  exact_max   uniform  uniform_min  uniform_max  \\\n",
       "43    460  0.055693   0.055032   0.056427  0.055954     0.055445     0.056854   \n",
       "44    470  0.052161   0.051627   0.053009  0.054581     0.054073     0.055463   \n",
       "45    480  0.047942   0.047303   0.048903  0.053606     0.053056     0.054434   \n",
       "46    490  0.045064   0.044540   0.045980  0.051794     0.051090     0.052800   \n",
       "47    500  0.044567   0.044041   0.045638  0.050476     0.049732     0.051402   \n",
       "\n",
       "        full  full_min  full_max  \n",
       "43  0.073577  0.071929  0.074874  \n",
       "44  0.059241  0.057665  0.060441  \n",
       "45  0.051718  0.050504  0.053881  \n",
       "46  0.053652  0.052043  0.054962  \n",
       "47  0.050475  0.049176  0.051515  "
      ]
     },
     "execution_count": 4,
     "metadata": {},
     "output_type": "execute_result"
    }
   ],
   "source": [
    "df = pd.DataFrame.from_dict(rmse_all).dropna()\n",
    "df = df.reset_index()\n",
    "df.tail(5)"
   ]
  },
  {
   "cell_type": "code",
   "execution_count": 17,
   "metadata": {},
   "outputs": [
    {
     "name": "stderr",
     "output_type": "stream",
     "text": [
      "C:\\Users\\qianw\\anaconda3\\envs\\oed\\lib\\site-packages\\ipykernel_launcher.py:14: UserWarning: Attempted to set non-positive bottom ylim on a log-scaled axis.\n",
      "Invalid limit will be ignored.\n",
      "  \n",
      "C:\\Users\\qianw\\anaconda3\\envs\\oed\\lib\\site-packages\\ipykernel_launcher.py:16: UserWarning: FixedFormatter should only be used together with FixedLocator\n",
      "  app.launch_new_instance()\n",
      "C:\\Users\\qianw\\anaconda3\\envs\\oed\\lib\\site-packages\\ipykernel_launcher.py:19: UserWarning: FixedFormatter should only be used together with FixedLocator\n",
      "C:\\Users\\qianw\\anaconda3\\envs\\oed\\lib\\site-packages\\ipykernel_launcher.py:20: UserWarning: FixedFormatter should only be used together with FixedLocator\n"
     ]
    },
    {
     "data": {
      "image/png": "[encoded data removed]",
      "text/plain": [
       "<Figure size 576x432 with 1 Axes>"
      ]
     },
     "metadata": {
      "needs_background": "light"
     },
     "output_type": "display_data"
    }
   ],
   "source": [
    "# Plot RMSE vs sample size\n",
    "import matplotlib.ticker as mticker\n",
    "fig, axes = plt.subplots(nrows=1, ncols=1, sharey=True, figsize=(8, 6))\n",
    "index_plot = np.array(np.arange(0, 44, 2))\n",
    "xticks = [i for i in df['index'].values[index_plot]]\n",
    "ax1 = df.iloc[index_plot].plot(x='index', y=df.columns[[1, 4, 7]], kind='line', marker='d',\n",
    "                legend=False, logy=True, ax=axes, linewidth=0.7, alpha=0.7, logx=False)\n",
    "for k in range(3):\n",
    "    ax1.fill_between(df.loc[index_plot, 'index'], df.iloc[index_plot][df.columns[3*k + 2]].values, \n",
    "                     df.iloc[index_plot][df.columns[3*k + 3]].values, alpha=0.3)\n",
    "# ax1.legend(['PCE-P', 'PCE-U', 'PCE-22'], bbox_to_anchor=(0.7, 0.2), fontsize=14) # 'PCE-U',\n",
    "ax1.set_ylabel(r'$nRMSE$', fontsize = 16);\n",
    "ax1.set_xlabel('Sample size', fontsize = 16);\n",
    "ax1.set_ylim(0, 4)\n",
    "# ax1.set_xlim(20, 100)\n",
    "ax1.set_xticklabels(xticks, fontsize=12);\n",
    "# ticks_loc = ax1.get_yticks().tolist()\n",
    "# ax1.yaxis.set_major_locator(mticker.FixedLocator(ticks_loc))\n",
    "ax1.set_yticklabels([np.round(i, 2) for i in ax1.get_yticks()], fontsize=14);\n",
    "ax1.set_xticklabels([int(i) for i in ax1.get_xticks()], fontsize=14);\n",
    "plt.savefig(f'{output_path}/figure/adaptive_independent_100_validation_panel2.png', dpi=300, format='png')"
   ]
  },
  {
   "cell_type": "markdown",
   "metadata": {},
   "source": [
    "# plot the cross-validation RMSE"
   ]
  },
  {
   "cell_type": "code",
   "execution_count": 12,
   "metadata": {},
   "outputs": [],
   "source": [
    "\n",
    "def df_return(fp, fn):\n",
    "    error_stats = pd.read_csv(f'{fp}{fn}', index_col = 'index')\n",
    "    cols = error_stats.columns\n",
    "    error_stats.loc[:, cols[1]] = error_stats.loc[:, cols[0]] - error_stats.loc[:, cols[1]]\n",
    "    error_stats.loc[:, cols[2]] = error_stats.loc[:, cols[2]] - error_stats.loc[:, cols[0]]  \n",
    "    df_temp = error_stats.iloc[:]\n",
    "    \n",
    "    return df_temp"
   ]
  },
  {
   "cell_type": "code",
   "execution_count": 13,
   "metadata": {},
   "outputs": [],
   "source": [
    "# Plot errors of cross-validation\n",
    "from matplotlib import rcParams\n",
    "\n",
    "# filepath = ['../output/paper0915/', '../output/paper0915/figure4/test_plot/', '../output/paper0915/figure4/test1013/']\n",
    "filepath = ['../output/adaptive_debug_folder100/']\n",
    "filename = ['error_cv_exact_552.csv', 'error_cv_uniform_552.csv',  'error_cv_full_552.csv']\n",
    "\n",
    "df_uniform = df_return(filepath[0], filename[0])\n",
    "df_uniform = df_uniform.filter(items=['mean'])\n",
    "cols = df_uniform.columns\n",
    "df_uniform.rename(columns={col: col+'_exact' for col in cols if col == 'mean'}, inplace=True)\n",
    "df_22 = df_return(filepath[0], filename[2])\n",
    "df_22 = df_22.filter(items=['mean'])\n",
    "df_22.rename(columns={col: col+'_22' for col in cols}, inplace=True)\n",
    "\n",
    "df_exact = df_return(filepath[0], filename[1])\n",
    "df_exact = df_exact.filter(items=['mean'])\n",
    "df_exact.rename(columns={col: 'mean_uni' for col in cols}, inplace=True)\n",
    "\n",
    "df = pd.concat([df_uniform, df_exact, df_22], axis=1)\n",
    "\n",
    "df_cols = df.columns\n",
    "keys = ['legend', 'legend_low', 'legend_up']\n",
    "legend_dict = {}\n",
    "for ind in range(len(keys)):\n",
    "    legend_dict[keys[ind]] = [df_cols[i] for i in range(len(df_cols)) if (i % 3) ==ind]\n",
    "\n",
    "df = df.reset_index()\n",
    "# plt.savefig(f'{filepath}/figure/pce_compare.png', format='png', dpi=300)"
   ]
  },
  {
   "cell_type": "code",
   "execution_count": 14,
   "metadata": {},
   "outputs": [],
   "source": [
    "train_vals = pd.read_csv(filepath[0]+'samples_adjust.csv').values[:, -1]\n",
    "xticks = np.array([int(i.split('_')[1]) for i in df['index'].values])\n",
    "std_list = [train_vals[0:].std() for n in xticks]"
   ]
  },
  {
   "cell_type": "code",
   "execution_count": 15,
   "metadata": {},
   "outputs": [],
   "source": [
    "# std_train_samples = int(4307583)\n",
    "# calculate the relative RMSE which is the RMSE normalized by the standard deviation\n",
    "df = df.fillna(0)\n",
    "for col in df.columns[1:]:\n",
    "    df.loc[:, col] = df.loc[:, col] / std_list\n",
    "df = df.replace(0,np.nan)\n",
    "# df.head()"
   ]
  },
  {
   "cell_type": "code",
   "execution_count": 16,
   "metadata": {},
   "outputs": [
    {
     "name": "stderr",
     "output_type": "stream",
     "text": [
      "<ipython-input-16-8d0f1a3fbd6c>:18: UserWarning: FixedFormatter should only be used together with FixedLocator\n",
      "  ax1.set_xticklabels([int(i) for i in ax1.get_xticks()], fontsize=14);\n"
     ]
    },
    {
     "data": {
      "image/png": "[encoded data removed]",
      "text/plain": [
       "<Figure size 576x432 with 1 Axes>"
      ]
     },
     "metadata": {
      "needs_background": "light"
     },
     "output_type": "display_data"
    }
   ],
   "source": [
    "# Plot RMSE vs sample size\n",
    "import matplotlib.ticker as mticker\n",
    "fig, axes = plt.subplots(nrows=1, ncols=1, sharey=True, figsize=(8, 6))\n",
    "index_plot = np.array(np.arange(0, 24, 1))\n",
    "# xticks = [int(i.split('_')[1]) for i in df['index'].values]\n",
    "df['index'] = xticks\n",
    "ax1 = df.iloc[index_plot].plot(x='index', y=df.columns[[1, 2, 3]], kind='line', marker='d',\n",
    "                legend=True, logy=True, ax=axes, linewidth=0.7, alpha=0.7, logx=False)\n",
    "\n",
    "ax1.legend(['PCE-P', 'PCE-U', 'PCE-22'], bbox_to_anchor=(0.95, 0.95), fontsize=14) # 'PCE-U',\n",
    "ax1.set_ylabel(r'$nRMSE_{cv}$', fontsize = 16);\n",
    "ax1.set_xlabel('Sample size', fontsize = 16);\n",
    "ax1.set_xlim(0, 500)\n",
    "# ax1.set_xticklabels(xticks, rotation=90, fontsize=14);\n",
    "ticks_loc = ax1.get_yticks().tolist()\n",
    "ax1.yaxis.set_major_locator(mticker.FixedLocator(ticks_loc))\n",
    "ax1.set_yticklabels(ax1.get_yticks(), rotation=90, fontsize=14);\n",
    "ax1.set_xticklabels([int(i) for i in ax1.get_xticks()], fontsize=14);\n",
    "# plt.savefig(f'{output_path}/figure/adaptive_cross_validation_log.png', dpi=300, format='png')"
   ]
  },
  {
   "cell_type": "code",
   "execution_count": null,
   "metadata": {},
   "outputs": [],
   "source": []
  }
 ],
 "metadata": {
  "kernelspec": {
   "display_name": "Python (oed)",
   "language": "python",
   "name": "oed"
  },
  "language_info": {
   "codemirror_mode": {
    "name": "ipython",
    "version": 3
   },
   "file_extension": ".py",
   "mimetype": "text/x-python",
   "name": "python",
   "nbconvert_exporter": "python",
   "pygments_lexer": "ipython3",
   "version": "3.7.1"
  }
 },
 "nbformat": 4,
 "nbformat_minor": 4
}
