{
 "cells": [
  {
   "cell_type": "markdown",
   "metadata": {},
   "source": [
    "## Parallel Processing"
   ]
  },
  {
   "cell_type": "markdown",
   "metadata": {},
   "source": [
    "Launching multiple copies if Venner command line using veneer-py\n"
   ]
  },
  {
   "cell_type": "markdown",
   "metadata": {},
   "source": [
    "Running simulations in parallel"
   ]
  },
  {
   "cell_type": "code",
   "execution_count": 1,
   "metadata": {},
   "outputs": [],
   "source": [
    "import veneer \n",
    "import numpy as np\n",
    "import pandas as pd\n",
    "import matplotlib.pyplot as plt\n",
    "%matplotlib inline"
   ]
  },
  {
   "cell_type": "code",
   "execution_count": 2,
   "metadata": {},
   "outputs": [],
   "source": [
    "%load_ext autoreload\n",
    "%autoreload 2\n",
    "import source_runner as sr\n",
    "from source_runner import *"
   ]
  },
  {
   "cell_type": "code",
   "execution_count": 3,
   "metadata": {},
   "outputs": [],
   "source": [
    "#### Run this to improve model performance, mainly through parallel computing. These can also be modified through Source UI\n",
    "def configure_options(self,options):\n",
    "    lines = [\"# Generated Script\",\"from Dynamic_SedNet.PluginSetup import DSScenarioDetails\"]\n",
    "    lines += [\"DSScenarioDetails.%s = %s\"%(k,v) for (k,v) in options.items()]\n",
    "    script = '\\n'.join(lines)\n",
    "    #print(script)\n",
    "    res = self.model._safe_run(script)"
   ]
  },
  {
   "cell_type": "code",
   "execution_count": 4,
   "metadata": {},
   "outputs": [],
   "source": [
    "from veneer.manage import create_command_line\n",
    "from veneer.manage import start,kill_all_now"
   ]
  },
  {
   "cell_type": "code",
   "execution_count": 5,
   "metadata": {},
   "outputs": [],
   "source": [
    "veneer_install = 'pest_source/vcmd412/Plugins/Plugins412/4.1.2.5828_CommunityPlugins/Veneer/'\n",
    "source_version = '4.1.2'\n",
    "cmd_directory = 'pest_source/vcmd412'\n",
    "veneer_cmd = create_command_line(veneer_install,source_version,dest=cmd_directory, force=False)\n",
    "# veneer_cmd = 'E:/cloudStor/Projects/factor_fixing/run_source/pest_source/vcmd412/Plugins/Plugins412/4.1.2.5828_CommunityPlugins/Veneer/FlowMatters.Source.VeneerCmd.exe'"
   ]
  },
  {
   "cell_type": "code",
   "execution_count": 6,
   "metadata": {},
   "outputs": [
    {
     "output_type": "stream",
     "name": "stdout",
     "text": [
      "Starting pest_source\\vcmd412\\FlowMatters.Source.VeneerCmd.exe -p 9877 -s  \"e:\\cloudStor\\Projects\\factor_fixing\\run_source\\pest_source\\MW_BASE_RC8_411_4712.rsproj\"\n",
      "[0] Loading plugins\n",
      "\n",
      "[0] Loaded \\\\E:\\\\cloudStor\\\\Projects\\\\factor_fixing\\\\run_source\\\\pest_source\\\\vcmd45\\\\Plugins\\\\latest\\\\CodeProjectWizardDemo.dll\n",
      "\n",
      "[0] Plugins loaded (1/1)\n",
      "\n",
      "[0] Opening project file: e:\\cloudStor\\Projects\\factor_fixing\\run_source\\pest_source\\MW_BASE_RC8_411_4712.rsproj\n",
      "\n",
      "ERROR[0] log4net:ERROR Failed to find configuration section 'log4net' in the application's .config file. Check your .config file for the <log4net> and <configSections> elements. The configuration section should look like: <section name=\"log4net\" type=\"log4net.Config.Log4NetConfigurationSectionHandler,log4net\" />\n",
      "\n",
      "[0] Loading project\n",
      "\n",
      "[0] Cannot instantiate abstract class or interface: TIME.ScenarioManagement.RunManagement.RunningConfiguration\n",
      "\n",
      "[0]     NHibernate.Tuple.PocoInstantiator.Instantiate()\n",
      "\n",
      "[0]     NHibernate.Tuple.Entity.AbstractEntityTuplizer.Instantiate(Object id)\n",
      "\n",
      "[0]     NHibernate.Impl.SessionImpl.Instantiate(IEntityPersister persister, Object id)\n",
      "\n",
      "[0]     NHibernate.Impl.SessionImpl.Instantiate(String clazz, Object id)\n",
      "\n",
      "[0]     NHibernate.Loader.Loader.InstanceNotYetLoaded(IDataReader dr, Int32 i, ILoadable persister, EntityKey key, LockMode lockMode, String rowIdAlias, EntityKey optionalObjectKey, Object optionalObject, IList hydratedObjects, ISessionImplementor session)\n",
      "\n",
      "[0]     NHibernate.Loader.Loader.GetRow(IDataReader rs, ILoadable[] persisters, EntityKey[] keys, Object optionalObject, EntityKey optionalObjectKey, LockMode[] lockModes, IList hydratedObjects, ISessionImplementor session)\n",
      "\n",
      "[0]     NHibernate.Loader.Loader.GetRowFromResultSet(IDataReader resultSet, ISessionImplementor session, QueryParameters queryParameters, LockMode[] lockModeArray, EntityKey optionalObjectKey, IList hydratedObjects, EntityKey[] keys, Boolean returnProxies)\n",
      "\n",
      "[0]     NHibernate.Loader.Loader.DoQuery(ISessionImplementor session, QueryParameters queryParameters, Boolean returnProxies)\n",
      "\n",
      "[0]     NHibernate.Loader.Loader.DoQueryAndInitializeNonLazyCollections(ISessionImplementor session, QueryParameters queryParameters, Boolean returnProxies)\n",
      "\n",
      "[0]     NHibernate.Loader.Loader.LoadCollection(ISessionImplementor session, Object id, IType type)\n",
      "\n",
      "[0]     NHibernate.Event.Default.DefaultInitializeCollectionEventListener.OnInitializeCollection(InitializeCollectionEvent event)\n",
      "\n",
      "[0]     NHibernate.Impl.SessionImpl.InitializeCollection(IPersistentCollection collection, Boolean writing)\n",
      "\n",
      "[0]     NHibernate.Collection.AbstractPersistentCollection.ForceInitialization()\n",
      "\n",
      "[0]     NHibernate.Engine.StatefulPersistenceContext.InitializeNonLazyCollections()\n",
      "\n",
      "[0]     NHibernate.Loader.Loader.DoQueryAndInitializeNonLazyCollections(ISessionImplementor session, QueryParameters queryParameters, Boolean returnProxies)\n",
      "\n",
      "[0]     NHibernate.Loader.Loader.DoList(ISessionImplementor session, QueryParameters queryParameters)\n",
      "\n",
      "[0]     NHibernate.Loader.Loader.ListIgnoreQueryCache(ISessionImplementor session, QueryParameters queryParameters)\n",
      "\n",
      "[0]     NHibernate.Impl.SessionImpl.List(CriteriaImpl criteria, IList results)\n",
      "\n",
      "[0]     NHibernate.Impl.CriteriaImpl.List(IList results)\n",
      "\n",
      "[0]     NHibernate.Impl.CriteriaImpl.UniqueResult()\n",
      "\n",
      "[0]     RiverSystem.Persistence.ApplicationLayerImpl.NHibernatePersistenceTransaction`1.LoadEntity[T](Int32 id, Boolean useCurrentSession) λ e:\\BuildAgent\\work\\ad5385c070b25382\\RiverSystem\\RiverSystem.Persistence\\ApplicationLayerImpl\\NHibernatePersistenceTransaction.cs:к 40\n",
      "\n",
      "[0]     RiverSystem.Persistence.ApplicationLayerImpl.NHibernatePersistenceTransaction`1.LoadRootLevelObject[T]() λ e:\\BuildAgent\\work\\ad5385c070b25382\\RiverSystem\\RiverSystem.Persistence\\ApplicationLayerImpl\\NHibernatePersistenceTransaction.cs:к 60\n",
      "\n",
      "[0]     RiverSystem.ApplicationLayer.Persistence.ZipContainer.LoadProjectAction`1.LoadBinaryProject(Boolean disableRecording) λ e:\\BuildAgent\\work\\ad5385c070b25382\\RiverSystem\\RiverSystem.ApplicationLayer\\Persistence\\ZipContainer\\LoadProjectAction.cs:к 83\n",
      "\n",
      "[0]     RiverSystem.ApplicationLayer.Persistence.ZipContainer.LoadProjectAction`1.Load(Boolean disableRecording) λ e:\\BuildAgent\\work\\ad5385c070b25382\\RiverSystem\\RiverSystem.ApplicationLayer\\Persistence\\ZipContainer\\LoadProjectAction.cs:к 41\n",
      "\n",
      "[0]     RiverSystem.ApplicationLayer.Persistence.ZipContainer.ZipProjectHandler`1.LoadProject(Boolean recordingDisabled) λ e:\\BuildAgent\\work\\ad5385c070b25382\\RiverSystem\\RiverSystem.ApplicationLayer\\Persistence\\ZipContainer\\ZipProjectHandler.cs:к 128\n",
      "\n",
      "[0]     FlowMatters.Source.VeneerCmd.Program.LoadProject(String fn, Options arguments) λ D:\\src\\projects\\Veneer\\FlowMatters.Source.VeneerCmd\\Program.cs:к 172\n",
      "\n",
      "[0]     FlowMatters.Source.VeneerCmd.Program.LoadScenario(Options options, String fn) λ D:\\src\\projects\\Veneer\\FlowMatters.Source.VeneerCmd\\Program.cs:к 126\n",
      "\n",
      "[0]     FlowMatters.Source.VeneerCmd.Program.RunWithOptions(Options options) λ D:\\src\\projects\\Veneer\\FlowMatters.Source.VeneerCmd\\Program.cs:к 87\n",
      "\n",
      "[0]     FlowMatters.Source.VeneerCmd.Program.Main(String[] args) λ D:\\src\\projects\\Veneer\\FlowMatters.Source.VeneerCmd\\Program.cs:к 46\n",
      "\n",
      "Server 0 on port 9877 failed to start\n",
      "[0] Unhandled exception: Cannot instantiate abstract class or interface: TIME.ScenarioManagement.RunManagement.RunningConfiguration\n",
      "\n"
     ]
    },
    {
     "output_type": "error",
     "ename": "Exception",
     "evalue": "One or more instances of Veneer failed to start. Try again with debug=True to see output",
     "traceback": [
      "\u001b[1;31m---------------------------------------------------------------------------\u001b[0m",
      "\u001b[1;31mException\u001b[0m                                 Traceback (most recent call last)",
      "\u001b[1;32m<ipython-input-6-75aa13818a61>\u001b[0m in \u001b[0;36m<module>\u001b[1;34m\u001b[0m\n\u001b[0;32m      3\u001b[0m \u001b[0mnum_copies\u001b[0m\u001b[1;33m=\u001b[0m\u001b[1;36m1\u001b[0m\u001b[1;33m\u001b[0m\u001b[1;33m\u001b[0m\u001b[0m\n\u001b[0;32m      4\u001b[0m \u001b[0mfirst_port\u001b[0m\u001b[1;33m=\u001b[0m\u001b[1;36m9877\u001b[0m\u001b[1;33m\u001b[0m\u001b[1;33m\u001b[0m\u001b[0m\n\u001b[1;32m----> 5\u001b[1;33m \u001b[0mprocesses\u001b[0m\u001b[1;33m,\u001b[0m \u001b[0mports\u001b[0m \u001b[1;33m=\u001b[0m \u001b[0mstart\u001b[0m\u001b[1;33m(\u001b[0m\u001b[0mproject\u001b[0m\u001b[1;33m,\u001b[0m\u001b[0mn_instances\u001b[0m\u001b[1;33m=\u001b[0m\u001b[0mnum_copies\u001b[0m\u001b[1;33m,\u001b[0m\u001b[0mports\u001b[0m\u001b[1;33m=\u001b[0m\u001b[0mfirst_port\u001b[0m\u001b[1;33m,\u001b[0m\u001b[0mdebug\u001b[0m\u001b[1;33m=\u001b[0m\u001b[1;32mTrue\u001b[0m\u001b[1;33m,\u001b[0m \u001b[0mremote\u001b[0m\u001b[1;33m=\u001b[0m\u001b[1;32mFalse\u001b[0m\u001b[1;33m,\u001b[0m \u001b[0mveneer_exe\u001b[0m\u001b[1;33m=\u001b[0m\u001b[0mveneer_cmd\u001b[0m\u001b[1;33m)\u001b[0m\u001b[1;33m\u001b[0m\u001b[1;33m\u001b[0m\u001b[0m\n\u001b[0m\u001b[0;32m      6\u001b[0m \u001b[0mvs\u001b[0m \u001b[1;33m=\u001b[0m \u001b[1;33m[\u001b[0m\u001b[0mveneer\u001b[0m\u001b[1;33m.\u001b[0m\u001b[0mVeneer\u001b[0m\u001b[1;33m(\u001b[0m\u001b[0mport\u001b[0m\u001b[1;33m=\u001b[0m\u001b[0mp\u001b[0m\u001b[1;33m)\u001b[0m \u001b[1;32mfor\u001b[0m \u001b[0mp\u001b[0m \u001b[1;32min\u001b[0m \u001b[0mports\u001b[0m\u001b[1;33m]\u001b[0m\u001b[1;33m\u001b[0m\u001b[1;33m\u001b[0m\u001b[0m\n",
      "\u001b[1;32m~\\anaconda3\\envs\\oed\\lib\\site-packages\\veneer\\manage.py\u001b[0m in \u001b[0;36mstart\u001b[1;34m(project_fn, n_instances, ports, debug, remote, script, veneer_exe, overwrite_plugins, return_io, model, additional_plugins)\u001b[0m\n\u001b[0;32m    336\u001b[0m         \u001b[1;32mfor\u001b[0m \u001b[0mp\u001b[0m \u001b[1;32min\u001b[0m \u001b[0mprocesses\u001b[0m\u001b[1;33m:\u001b[0m\u001b[1;33m\u001b[0m\u001b[1;33m\u001b[0m\u001b[0m\n\u001b[0;32m    337\u001b[0m             \u001b[0mp\u001b[0m\u001b[1;33m.\u001b[0m\u001b[0mkill\u001b[0m\u001b[1;33m(\u001b[0m\u001b[1;33m)\u001b[0m\u001b[1;33m\u001b[0m\u001b[1;33m\u001b[0m\u001b[0m\n\u001b[1;32m--> 338\u001b[1;33m         \u001b[1;32mraise\u001b[0m \u001b[0mException\u001b[0m\u001b[1;33m(\u001b[0m\u001b[1;34m'One or more instances of Veneer failed to start. Try again with debug=True to see output'\u001b[0m\u001b[1;33m)\u001b[0m\u001b[1;33m\u001b[0m\u001b[1;33m\u001b[0m\u001b[0m\n\u001b[0m\u001b[0;32m    339\u001b[0m \u001b[1;33m\u001b[0m\u001b[0m\n\u001b[0;32m    340\u001b[0m     \u001b[0mkill_all_on_exit\u001b[0m\u001b[1;33m(\u001b[0m\u001b[0mprocesses\u001b[0m\u001b[1;33m)\u001b[0m\u001b[1;33m\u001b[0m\u001b[1;33m\u001b[0m\u001b[0m\n",
      "\u001b[1;31mException\u001b[0m: One or more instances of Veneer failed to start. Try again with debug=True to see output"
     ]
    }
   ],
   "source": [
    "project = 'pest_source/MW_BASE_RC8_411_4712.rsproj'\n",
    "# generate copies of servers\n",
    "num_copies=1\n",
    "first_port=9877\n",
    "processes, ports = start(project,n_instances=num_copies,ports=first_port,debug=True, remote=False, veneer_exe=veneer_cmd)\n",
    "vs = [veneer.Veneer(port=p) for p in ports]"
   ]
  },
  {
   "cell_type": "markdown",
   "metadata": {},
   "source": [
    "Configure model for runs"
   ]
  },
  {
   "cell_type": "markdown",
   "metadata": {},
   "source": [
    "#Start"
   ]
  },
  {
   "cell_type": "code",
   "execution_count": 9,
   "metadata": {},
   "outputs": [],
   "source": [
    "# set model configuration\n",
    "for v in vs:\n",
    "    configure_options(v,{'RunNetworksInParallel':True,'PreRunCatchments':True,'ParallelFlowPhase':True})\n",
    "    v.model.sourceScenarioOptions(\"PerformanceConfiguration\",\"ProcessCatchmentsInParallel\",True)\n",
    "    ### Run this to turn off dsednet reporting window\n",
    "    configure_options(v,{'ShowResultsAfterRun':False,'OverwriteResults':True})"
   ]
  },
  {
   "cell_type": "code",
   "execution_count": 10,
   "metadata": {},
   "outputs": [],
   "source": [
    "# Set model runs\n",
    "# Define start and end time, with a half year warmup period\n",
    "start_date = '01/07/2005'\n",
    "end_date = '30/06/2014'\n",
    "record_gauge = 'gauge_124001B_AndromacheRvJochheims'\n",
    "record_var = 'Constituents@Sediment - Fine@Downstream Flow Mass'\n",
    "filter_elements = set_filter(veneer, record_gauge, record_var)"
   ]
  },
  {
   "cell_type": "code",
   "execution_count": 11,
   "metadata": {},
   "outputs": [],
   "source": [
    "# Configuring recording and retrieving results\n",
    "ts_match_criteria = {'RecordingVariable':'Constituents@Sediment - Fine@Downstream Flow Mass',\n",
    "                    'NetworkElement':'gauge_124001B_OConnellRvStaffordsCrossing'}\n",
    "for v in vs:\n",
    "    v.configure_recording(enable=[ts_match_criteria])"
   ]
  },
  {
   "cell_type": "markdown",
   "metadata": {},
   "source": [
    "#End"
   ]
  },
  {
   "cell_type": "markdown",
   "metadata": {},
   "source": [
    "Parameter process "
   ]
  },
  {
   "cell_type": "markdown",
   "metadata": {},
   "source": [
    "#Start"
   ]
  },
  {
   "cell_type": "code",
   "execution_count": 12,
   "metadata": {},
   "outputs": [],
   "source": [
    "# assign distributions to parameters\n",
    "# parameters = parameters.loc[0:10, :]\n",
    "param_file = '../input/upper v1.csv'\n",
    "parameters = sr.load_parameter_file(param_file) \n",
    "parameters = parameters[:-1]\n",
    "len_params = len(parameters)\n",
    "param_dist = []\n",
    "num_runs = 1500\n",
    "for i in range(len_params):\n",
    "    low_bd = parameters.loc[i, 'min']\n",
    "    up_bd = parameters.loc[i, 'max']\n",
    "    param_dist.append(cp.Uniform(lower=low_bd, upper=up_bd))\n",
    "dist = cp.J(*param_dist)\n",
    "\n",
    "# generate samples using Sobol sampling\n",
    "# nodes generated by chaospy is n * m (numbers * )\n",
    "# np.random.seed(1234)\n",
    "# nodes = np.round(dist.sample(size=num_runs, rule='S'), 4)"
   ]
  },
  {
   "cell_type": "code",
   "execution_count": 13,
   "metadata": {},
   "outputs": [],
   "source": [
    "# import samples\n",
    "f_dir = '../output/22params/MW_results/'\n",
    "f_name = 'samples.csv'\n",
    "nodes = pd.read_csv('{}{}'.format(f_dir, f_name), index_col='id')\n",
    "nodes = nodes.values.T"
   ]
  },
  {
   "cell_type": "code",
   "execution_count": 13,
   "metadata": {},
   "outputs": [],
   "source": [
    "# export modelling results\n",
    "f_dir = '../output/MW_results/'\n",
    "# add model results into parameter samples\n",
    "cols = [*(parameters.loc[:, 'Veneer_name'])]\n",
    "results_df = pd.DataFrame(nodes.T, index=range(len(nodes.T)), columns=cols)\n",
    "results_df.index.name = 'id'\n",
    "results_df.to_csv('{}{}'.format(f_dir, 'samples.csv'))"
   ]
  },
  {
   "cell_type": "code",
   "execution_count": 14,
   "metadata": {},
   "outputs": [],
   "source": [
    "# process parameters and store initial values\n",
    "param_names, param_vename_dic, param_vename, param_types = sr.group_parameters(parameters)\n",
    "initial_params = get_initial_param_vals(vs[0], param_names, param_vename, param_vename_dic)"
   ]
  },
  {
   "cell_type": "markdown",
   "metadata": {},
   "source": [
    "#End"
   ]
  },
  {
   "cell_type": "code",
   "execution_count": 17,
   "metadata": {},
   "outputs": [
    {
     "name": "stdout",
     "output_type": "stream",
     "text": [
      "772\n",
      "Completed 1401 runs\n",
      "Wall time: 2min 5s\n"
     ]
    }
   ],
   "source": [
    "%%time\n",
    "tss_results = []\n",
    "total_runs = 1400\n",
    "group_loops = np.floor_divide(num_runs, num_copies) + 1\n",
    "for i in range(772, 773):\n",
    "    group_run_responses = []\n",
    "    for j in range(num_copies):\n",
    "        total_runs += 1\n",
    "        scaling_factor_index =  i * num_copies + j\n",
    "        print(scaling_factor_index)\n",
    "        if scaling_factor_index >= num_runs:\n",
    "            break\n",
    "        scaling_factor = nodes[:, scaling_factor_index]\n",
    "        v= vs[j]\n",
    "        v.drop_all_runs()\n",
    "        \n",
    "        # set scaling_factor to the current model\n",
    "        for k in range(len_params):\n",
    "            name = parameters.Veneer_name[k]\n",
    "            param_new_factor = scaling_factor[k]\n",
    "            param_value_ini = initial_params[name]\n",
    "            if param_types[k] == 0:\n",
    "                param_value_new = [param_new_factor for value in initial_params[name]]\n",
    "            else:\n",
    "                param_value_new = [param_new_factor * value for value in initial_params[name]]\n",
    "            #set parameter values\n",
    "            if name in param_vename_dic[param_vename[0]]:\n",
    "                assert v.model.catchment.generation.set_param_values(name, param_value_new, fromList = True)\n",
    "            if name in  param_vename_dic[param_vename[1]]:\n",
    "                assert v.model.link.constituents.set_param_values(name, param_value_new,fromList = True)\n",
    "            if name in  param_vename_dic[param_vename[2]]:\n",
    "                assert v.model.node.set_param_values(name, param_value_new,fromList = True)\n",
    "            if name in  param_vename_dic[param_vename[3]]:\n",
    "                assert v.model.link.routing.set_param_values(name, param_value_new,fromList = True)\n",
    "\n",
    "        response = v.run_model(start=start_date, end=end_date, run_async=True)\n",
    "        group_run_responses.append(response)\n",
    "        \n",
    "    # Retrieve the time series of fine sediment mass at the interested gauge\n",
    "    for j in range(num_copies):\n",
    "        scaling_factor_index =  i * num_copies + j\n",
    "        if scaling_factor_index >= (num_runs):\n",
    "            break\n",
    "        v = vs[j]\n",
    "        r = group_run_responses[j]   \n",
    "        code = r.getresponse().getcode() # wait until the job finished   \n",
    "        run_results = v.retrieve_multiple_time_series(criteria=ts_match_criteria, name_fn=veneer.name_for_variable)\n",
    "        # store the daily results and the index of sampling\n",
    "        result_np =  run_results.values\n",
    "        try:\n",
    "            tss_results = np.hstack((tss_results, result_np))\n",
    "        except (ValueError, UnboundLocalError) as e:\n",
    "            timeframe = np.array(run_results.index.date.tolist()).reshape(len(run_results.index), 1)\n",
    "            tss_results = np.hstack((timeframe, result_np))\n",
    "#     if ((total_runs % 100) == 0 | (total_runs == num_runs)):\n",
    "#         num_write = tss_results.shape[1]\n",
    "#         np.savetxt('{}{}{}'.format(f_dir, str(total_runs), '_Tss_124001B.csv'), \n",
    "#            tss_results, delimiter=',', newline='\\n',\n",
    "#            header=\", \".join([\"Date\"] + [str(i+1) for i in range(num_write)]), fmt='%s')\n",
    "#         tss_results = []    \n",
    "    veneer.log('Completed %d runs'%total_runs)"
   ]
  },
  {
   "cell_type": "code",
   "execution_count": 18,
   "metadata": {},
   "outputs": [],
   "source": [
    "num_write = tss_results.shape[1]\n",
    "np.savetxt('{}{}{}'.format(f_dir, str(772), '_Tss_124001B.csv'), \n",
    "    tss_results, delimiter=',', newline='\\n',\n",
    "    header=\", \".join([\"Date\"] + [str(i+1) for i in range(num_write)]), fmt='%s')"
   ]
  },
  {
   "cell_type": "code",
   "execution_count": 24,
   "metadata": {},
   "outputs": [
    {
     "name": "stdout",
     "output_type": "stream",
     "text": [
      "Wall time: 4.38 s\n"
     ]
    }
   ],
   "source": [
    "%%time\n",
    "for v in vs:    \n",
    "    for k in range(len_params):\n",
    "        name = parameters.Veneer_name[k]\n",
    "        ini_param_val = initial_params[name]\n",
    "        if name in param_vename_dic[param_vename[0]]:\n",
    "            v.model.catchment.generation.set_param_values(name, ini_param_val, fromList=True)\n",
    "        if name in param_vename_dic[param_vename[1]]:\n",
    "            v.model.link.constituents.set_param_values(name, ini_param_val, fromList=True)\n",
    "        if name in param_vename_dic[param_vename[2]]:\n",
    "            v.model.node.set_param_values(name, ini_param_val, fromList=True)\n",
    "        if name in param_vename_dic[param_vename[3]]:\n",
    "            v.model.link.routing.set_param_values(name, ini_param_val, fromList=True)\n",
    "        if name in param_vename_dic[param_vename[4]]:\n",
    "            v.model.node.constituents.set_param_values(name, ini_param_val, fromList=True, \n",
    "                                        node_types=['StorageNodeModel'],aspect='model')"
   ]
  },
  {
   "cell_type": "code",
   "execution_count": 25,
   "metadata": {},
   "outputs": [],
   "source": [
    "# Terminate the veneer servers\n",
    "kill_all_now(processes)"
   ]
  },
  {
   "cell_type": "code",
   "execution_count": null,
   "metadata": {},
   "outputs": [],
   "source": []
  }
 ],
 "metadata": {
  "kernelspec": {
   "name": "oed",
   "display_name": "Python 3.7.1 64-bit ('OED': conda)"
  },
  "language_info": {
   "codemirror_mode": {
    "name": "ipython",
    "version": 3
   },
   "file_extension": ".py",
   "mimetype": "text/x-python",
   "name": "python",
   "nbconvert_exporter": "python",
   "pygments_lexer": "ipython3",
   "version": "3.7.1"
  }
 },
 "nbformat": 4,
 "nbformat_minor": 4
}