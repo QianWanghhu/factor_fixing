{
 "cells": [
  {
   "cell_type": "markdown",
   "metadata": {},
   "source": [
    "## Parallel Processing"
   ]
  },
  {
   "cell_type": "markdown",
   "metadata": {},
   "source": [
    "Launching multiple copies if Venner command line using veneer-py\n"
   ]
  },
  {
   "cell_type": "markdown",
   "metadata": {},
   "source": [
    "Running simulations in parallel"
   ]
  },
  {
   "cell_type": "code",
   "execution_count": 7,
   "metadata": {},
   "outputs": [],
   "source": [
    "import veneer \n",
    "import numpy as np\n",
    "import pandas as pd\n",
    "import matplotlib.pyplot as plt\n",
    "%matplotlib inline"
   ]
  },
  {
   "cell_type": "code",
   "execution_count": 8,
   "metadata": {},
   "outputs": [
    {
     "name": "stdout",
     "output_type": "stream",
     "text": [
      "The autoreload extension is already loaded. To reload it, use:\n",
      "  %reload_ext autoreload\n"
     ]
    }
   ],
   "source": [
    "%load_ext autoreload\n",
    "%autoreload 2\n",
    "import source_runner as sr\n",
    "from source_runner import *"
   ]
  },
  {
   "cell_type": "code",
   "execution_count": 9,
   "metadata": {},
   "outputs": [],
   "source": [
    "#### Run this to improve model performance, mainly through parallel computing. These can also be modified through Source UI\n",
    "def configure_options(self,options):\n",
    "    lines = [\"# Generated Script\",\"from Dynamic_SedNet.PluginSetup import DSScenarioDetails\"]\n",
    "    lines += [\"DSScenarioDetails.%s = %s\"%(k,v) for (k,v) in options.items()]\n",
    "    script = '\\n'.join(lines)\n",
    "    #print(script)\n",
    "    res = self.model._safe_run(script)"
   ]
  },
  {
   "cell_type": "code",
   "execution_count": 10,
   "metadata": {},
   "outputs": [],
   "source": [
    "from veneer.manage import create_command_line\n",
    "from veneer.manage import start,kill_all_now"
   ]
  },
  {
   "cell_type": "code",
   "execution_count": 11,
   "metadata": {},
   "outputs": [],
   "source": [
    "veneer_install = 'pest_source/vcmd412/Plugins/Plugins412/4.1.2.5828_CommunityPlugins/Veneer/'\n",
    "source_version = '4.1.2'\n",
    "cmd_directory = 'pest_source/vcmd412'\n",
    "veneer_cmd = create_command_line(veneer_install,source_version,dest=cmd_directory, force=False)\n",
    "# veneer_cmd = 'E:/cloudStor/Projects/factor_fixing/run_source/pest_source/vcmd412/Plugins/Plugins412/4.1.2.5828_CommunityPlugins/Veneer/FlowMatters.Source.VeneerCmd.exe'"
   ]
  },
  {
   "cell_type": "code",
   "execution_count": 13,
   "metadata": {},
   "outputs": [],
   "source": [
    "project = 'pest_source/MW_BASE_RC8_411_4712.rsproj'\n",
    "# generate copies of servers\n",
    "num_copies=1\n",
    "first_port=9877\n",
    "processes, ports = start(project,n_instances=num_copies,ports=first_port,debug=True, remote=False, veneer_exe=veneer_cmd)\n",
    "vs = [veneer.Veneer(port=p) for p in ports]"
   ]
  },
  {
   "cell_type": "markdown",
   "metadata": {},
   "source": [
    "Configure model for runs"
   ]
  },
  {
   "cell_type": "markdown",
   "metadata": {},
   "source": [
    "#Start"
   ]
  },
  {
   "cell_type": "code",
   "execution_count": 9,
   "metadata": {},
   "outputs": [],
   "source": [
    "# set model configuration\n",
    "for v in vs:\n",
    "    configure_options(v,{'RunNetworksInParallel':True,'PreRunCatchments':True,'ParallelFlowPhase':True})\n",
    "    v.model.sourceScenarioOptions(\"PerformanceConfiguration\",\"ProcessCatchmentsInParallel\",True)\n",
    "    ### Run this to turn off dsednet reporting window\n",
    "    configure_options(v,{'ShowResultsAfterRun':False,'OverwriteResults':True})"
   ]
  },
  {
   "cell_type": "code",
   "execution_count": 10,
   "metadata": {},
   "outputs": [],
   "source": [
    "# Set model runs\n",
    "# Define start and end time, with a half year warmup period\n",
    "start_date = '01/07/2005'\n",
    "end_date = '30/06/2014'\n",
    "record_gauge = 'gauge_124001B_AndromacheRvJochheims'\n",
    "record_var = 'Constituents@Sediment - Fine@Downstream Flow Mass'\n",
    "filter_elements = set_filter(veneer, record_gauge, record_var)"
   ]
  },
  {
   "cell_type": "code",
   "execution_count": 11,
   "metadata": {},
   "outputs": [],
   "source": [
    "# Configuring recording and retrieving results\n",
    "ts_match_criteria = {'RecordingVariable':'Constituents@Sediment - Fine@Downstream Flow Mass',\n",
    "                    'NetworkElement':'gauge_124001B_OConnellRvStaffordsCrossing'}\n",
    "for v in vs:\n",
    "    v.configure_recording(enable=[ts_match_criteria])"
   ]
  },
  {
   "cell_type": "markdown",
   "metadata": {},
   "source": [
    "#End"
   ]
  },
  {
   "cell_type": "markdown",
   "metadata": {},
   "source": [
    "Parameter process "
   ]
  },
  {
   "cell_type": "markdown",
   "metadata": {},
   "source": [
    "#Start"
   ]
  },
  {
   "cell_type": "code",
   "execution_count": 12,
   "metadata": {},
   "outputs": [],
   "source": [
    "# assign distributions to parameters\n",
    "# parameters = parameters.loc[0:10, :]\n",
    "param_file = '../input/upper v1.csv'\n",
    "parameters = sr.load_parameter_file(param_file) \n",
    "parameters = parameters[:-1]\n",
    "len_params = len(parameters)\n",
    "param_dist = []\n",
    "num_runs = 1500\n",
    "for i in range(len_params):\n",
    "    low_bd = parameters.loc[i, 'min']\n",
    "    up_bd = parameters.loc[i, 'max']\n",
    "    param_dist.append(cp.Uniform(lower=low_bd, upper=up_bd))\n",
    "dist = cp.J(*param_dist)\n",
    "\n",
    "# generate samples using Sobol sampling\n",
    "# nodes generated by chaospy is n * m (numbers * )\n",
    "# np.random.seed(1234)\n",
    "# nodes = np.round(dist.sample(size=num_runs, rule='S'), 4)"
   ]
  },
  {
   "cell_type": "code",
   "execution_count": 13,
   "metadata": {},
   "outputs": [],
   "source": [
    "# import samples\n",
    "f_dir = '../output/22params/MW_results/'\n",
    "f_name = 'samples.csv'\n",
    "nodes = pd.read_csv('{}{}'.format(f_dir, f_name), index_col='id')\n",
    "nodes = nodes.values.T"
   ]
  },
  {
   "cell_type": "code",
   "execution_count": 13,
   "metadata": {},
   "outputs": [],
   "source": [
    "# export modelling results\n",
    "f_dir = '../output/MW_results/'\n",
    "# add model results into parameter samples\n",
    "cols = [*(parameters.loc[:, 'Veneer_name'])]\n",
    "results_df = pd.DataFrame(nodes.T, index=range(len(nodes.T)), columns=cols)\n",
    "results_df.index.name = 'id'\n",
    "results_df.to_csv('{}{}'.format(f_dir, 'samples.csv'))"
   ]
  },
  {
   "cell_type": "code",
   "execution_count": 14,
   "metadata": {},
   "outputs": [],
   "source": [
    "# process parameters and store initial values\n",
    "param_names, param_vename_dic, param_vename, param_types = sr.group_parameters(parameters)\n",
    "initial_params = get_initial_param_vals(vs[0], param_names, param_vename, param_vename_dic)"
   ]
  },
  {
   "cell_type": "markdown",
   "metadata": {},
   "source": [
    "#End"
   ]
  },
  {
   "cell_type": "code",
   "execution_count": 17,
   "metadata": {},
   "outputs": [
    {
     "name": "stdout",
     "output_type": "stream",
     "text": [
      "772\n",
      "Completed 1401 runs\n",
      "Wall time: 2min 5s\n"
     ]
    }
   ],
   "source": [
    "%%time\n",
    "tss_results = []\n",
    "total_runs = 1400\n",
    "group_loops = np.floor_divide(num_runs, num_copies) + 1\n",
    "for i in range(772, 773):\n",
    "    group_run_responses = []\n",
    "    for j in range(num_copies):\n",
    "        total_runs += 1\n",
    "        scaling_factor_index =  i * num_copies + j\n",
    "        print(scaling_factor_index)\n",
    "        if scaling_factor_index >= num_runs:\n",
    "            break\n",
    "        scaling_factor = nodes[:, scaling_factor_index]\n",
    "        v= vs[j]\n",
    "        v.drop_all_runs()\n",
    "        \n",
    "        # set scaling_factor to the current model\n",
    "        for k in range(len_params):\n",
    "            name = parameters.Veneer_name[k]\n",
    "            param_new_factor = scaling_factor[k]\n",
    "            param_value_ini = initial_params[name]\n",
    "            if param_types[k] == 0:\n",
    "                param_value_new = [param_new_factor for value in initial_params[name]]\n",
    "            else:\n",
    "                param_value_new = [param_new_factor * value for value in initial_params[name]]\n",
    "            #set parameter values\n",
    "            if name in param_vename_dic[param_vename[0]]:\n",
    "                assert v.model.catchment.generation.set_param_values(name, param_value_new, fromList = True)\n",
    "            if name in  param_vename_dic[param_vename[1]]:\n",
    "                assert v.model.link.constituents.set_param_values(name, param_value_new,fromList = True)\n",
    "            if name in  param_vename_dic[param_vename[2]]:\n",
    "                assert v.model.node.set_param_values(name, param_value_new,fromList = True)\n",
    "            if name in  param_vename_dic[param_vename[3]]:\n",
    "                assert v.model.link.routing.set_param_values(name, param_value_new,fromList = True)\n",
    "\n",
    "        response = v.run_model(start=start_date, end=end_date, run_async=True)\n",
    "        group_run_responses.append(response)\n",
    "        \n",
    "    # Retrieve the time series of fine sediment mass at the interested gauge\n",
    "    for j in range(num_copies):\n",
    "        scaling_factor_index =  i * num_copies + j\n",
    "        if scaling_factor_index >= (num_runs):\n",
    "            break\n",
    "        v = vs[j]\n",
    "        r = group_run_responses[j]   \n",
    "        code = r.getresponse().getcode() # wait until the job finished   \n",
    "        run_results = v.retrieve_multiple_time_series(criteria=ts_match_criteria, name_fn=veneer.name_for_variable)\n",
    "        # store the daily results and the index of sampling\n",
    "        result_np =  run_results.values\n",
    "        try:\n",
    "            tss_results = np.hstack((tss_results, result_np))\n",
    "        except (ValueError, UnboundLocalError) as e:\n",
    "            timeframe = np.array(run_results.index.date.tolist()).reshape(len(run_results.index), 1)\n",
    "            tss_results = np.hstack((timeframe, result_np))\n",
    "#     if ((total_runs % 100) == 0 | (total_runs == num_runs)):\n",
    "#         num_write = tss_results.shape[1]\n",
    "#         np.savetxt('{}{}{}'.format(f_dir, str(total_runs), '_Tss_124001B.csv'), \n",
    "#            tss_results, delimiter=',', newline='\\n',\n",
    "#            header=\", \".join([\"Date\"] + [str(i+1) for i in range(num_write)]), fmt='%s')\n",
    "#         tss_results = []    \n",
    "    veneer.log('Completed %d runs'%total_runs)"
   ]
  },
  {
   "cell_type": "code",
   "execution_count": 18,
   "metadata": {},
   "outputs": [],
   "source": [
    "num_write = tss_results.shape[1]\n",
    "np.savetxt('{}{}{}'.format(f_dir, str(772), '_Tss_124001B.csv'), \n",
    "    tss_results, delimiter=',', newline='\\n',\n",
    "    header=\", \".join([\"Date\"] + [str(i+1) for i in range(num_write)]), fmt='%s')"
   ]
  },
  {
   "cell_type": "code",
   "execution_count": 24,
   "metadata": {},
   "outputs": [
    {
     "name": "stdout",
     "output_type": "stream",
     "text": [
      "Wall time: 4.38 s\n"
     ]
    }
   ],
   "source": [
    "%%time\n",
    "for v in vs:    \n",
    "    for k in range(len_params):\n",
    "        name = parameters.Veneer_name[k]\n",
    "        ini_param_val = initial_params[name]\n",
    "        if name in param_vename_dic[param_vename[0]]:\n",
    "            v.model.catchment.generation.set_param_values(name, ini_param_val, fromList=True)\n",
    "        if name in param_vename_dic[param_vename[1]]:\n",
    "            v.model.link.constituents.set_param_values(name, ini_param_val, fromList=True)\n",
    "        if name in param_vename_dic[param_vename[2]]:\n",
    "            v.model.node.set_param_values(name, ini_param_val, fromList=True)\n",
    "        if name in param_vename_dic[param_vename[3]]:\n",
    "            v.model.link.routing.set_param_values(name, ini_param_val, fromList=True)\n",
    "        if name in param_vename_dic[param_vename[4]]:\n",
    "            v.model.node.constituents.set_param_values(name, ini_param_val, fromList=True, \n",
    "                                        node_types=['StorageNodeModel'],aspect='model')"
   ]
  },
  {
   "cell_type": "code",
   "execution_count": 25,
   "metadata": {},
   "outputs": [],
   "source": [
    "# Terminate the veneer servers\n",
    "kill_all_now(processes)"
   ]
  },
  {
   "cell_type": "code",
   "execution_count": null,
   "metadata": {},
   "outputs": [],
   "source": []
  }
 ],
 "metadata": {
  "kernelspec": {
   "display_name": "python(oed)",
   "language": "python",
   "name": "oed"
  },
  "language_info": {
   "codemirror_mode": {
    "name": "ipython",
    "version": 3
   },
   "file_extension": ".py",
   "mimetype": "text/x-python",
   "name": "python",
   "nbconvert_exporter": "python",
   "pygments_lexer": "ipython3",
   "version": "3.7.1"
  }
 },
 "nbformat": 4,
 "nbformat_minor": 4
}
